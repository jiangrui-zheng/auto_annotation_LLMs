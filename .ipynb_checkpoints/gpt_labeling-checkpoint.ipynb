{
 "cells": [
  {
   "cell_type": "code",
   "execution_count": null,
   "id": "initial_id",
   "metadata": {
    "ExecuteTime": {
     "end_time": "2023-11-21T02:54:13.098835217Z",
     "start_time": "2023-11-21T02:54:13.088649022Z"
    },
    "collapsed": true
   },
   "outputs": [],
   "source": [
    "import pandas as pd\n",
    "import openai\n",
    "from tqdm import tqdm\n",
    "import re\n",
    "import torch\n",
    "import time\n",
    "\n",
    "device = torch.device(\"cuda\" if torch.cuda.is_available() else \"cpu\")\n",
    "print(device)\n",
    "\n",
    "\n",
    "def get_gpt_label(content, sentence):\n",
    "    if pd.isnull(sentence):\n",
    "        return None\n",
    "    response = openai.ChatCompletion.create(\n",
    "        model=\"gpt-4\",\n",
    "        messages=[\n",
    "            {\"role\": \"system\", \"content\": \"You're a nlp expert helping me categorize hard-to-distinguish non-hate speech\"},\n",
    "            {\"role\": \"user\", \"content\": content + \"Question:[\"+sentence + \"]\"},\n",
    "        ],\n",
    "        max_tokens = 50\n",
    "        )\n",
    "    result = response.choices[0].message.content\n",
    "    return result\n",
    "\n",
    "\n",
    "xls = pd.ExcelFile('../xlsx/Hatemoderate Hard-negative.xlsx')\n",
    "\n",
    "with open('../gpt/new_prompt.txt', 'r') as file:\n",
    "    content = file.read()\n",
    "\n",
    "with pd.ExcelWriter('../xlsx/inspect_hard_negative.xlsx', engine='openpyxl', mode='w') as writer:\n",
    "    for i, sheet_name in enumerate(tqdm(xls.sheet_names[:])):# selected Guidelines\n",
    "        print(sheet_name)\n",
    "        if i == 25:\n",
    "            continue\n",
    "        df = pd.read_excel(xls, sheet_name=sheet_name)\n",
    "        row_index = df[df.iloc[:, 1] == 'non-hate examples'].index[0]\n",
    "\n",
    "\n",
    "        sentences = df.iloc[row_index + 1:, 1][:101]\n",
    "        #labels = [get_gpt_label(content, sentence) for sentence in tqdm(sentences)]\n",
    "        labels = []\n",
    "        for sentence in tqdm(sentences):\n",
    "            label = None\n",
    "            attempts = 0\n",
    "            while not label and attempts < 10:  # adjust the number of attempts as required\n",
    "                label = get_gpt_label(content, sentence)\n",
    "                label = label if label and re.search(r'\\d+', label) else None\n",
    "                #print(label)\n",
    "                if not label:\n",
    "                      # wait before next attempt\n",
    "                    attempts += 1\n",
    "                    time.sleep(9)\n",
    "            labels.append(label)\n",
    "            #time.sleep(0.5)\n",
    "            time.sleep(11)\n",
    "\n",
    "        labels = [int(re.search(r'\\d+', label).group()) if label else label for label in labels]  # string to int\n",
    "        print(labels)\n",
    "        df.iloc[row_index + 1:, 3][:101] = labels\n",
    "        df.to_excel(writer, sheet_name=sheet_name, index=False)\n"
   ]
  },
  {
   "cell_type": "code",
   "execution_count": null,
   "id": "22f40d8f3c6b64d1",
   "metadata": {},
   "outputs": [],
   "source": []
  }
 ],
 "metadata": {
  "kernelspec": {
   "display_name": "Python 3 (ipykernel)",
   "language": "python",
   "name": "python3"
  },
  "language_info": {
   "codemirror_mode": {
    "name": "ipython",
    "version": 3
   },
   "file_extension": ".py",
   "mimetype": "text/x-python",
   "name": "python",
   "nbconvert_exporter": "python",
   "pygments_lexer": "ipython3",
   "version": "3.9.0"
  }
 },
 "nbformat": 4,
 "nbformat_minor": 5
}
